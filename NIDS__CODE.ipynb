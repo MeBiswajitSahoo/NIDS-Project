{
 "cells": [
  {
   "cell_type": "markdown",
   "id": "e4095d70-e9b3-4cdc-8535-cdf4a67120be",
   "metadata": {},
   "source": [
    "# NIDS PROGRAME"
   ]
  },
  {
   "cell_type": "code",
   "execution_count": 1,
   "id": "73b03866-5f14-41aa-949f-a80e5993b9b3",
   "metadata": {},
   "outputs": [
    {
     "name": "stdout",
     "output_type": "stream",
     "text": [
      "Reading Features list :  back,buffer_overflow,ftp_write,guess_passwd,imap,ipsweep,land,loadmodule,multihop,neptune,nmap,normal,perl,phf,pod,portsweep,rootkit,satan,smurf,spy,teardrop,warezclient,warezmaster.\n",
      "duration: continuous.\n",
      "protocol_type: symbolic.\n",
      "service: symbolic.\n",
      "flag: symbolic.\n",
      "src_bytes: continuous.\n",
      "dst_bytes: continuous.\n",
      "land: symbolic.\n",
      "wrong_fragment: continuous.\n",
      "urgent: continuous.\n",
      "hot: continuous.\n",
      "num_failed_logins: continuous.\n",
      "logged_in: symbolic.\n",
      "num_compromised: continuous.\n",
      "root_shell: continuous.\n",
      "su_attempted: continuous.\n",
      "num_root: continuous.\n",
      "num_file_creations: continuous.\n",
      "num_shells: continuous.\n",
      "num_access_files: continuous.\n",
      "num_outbound_cmds: continuous.\n",
      "is_host_login: symbolic.\n",
      "is_guest_login: symbolic.\n",
      "count: continuous.\n",
      "srv_count: continuous.\n",
      "serror_rate: continuous.\n",
      "srv_serror_rate: continuous.\n",
      "rerror_rate: continuous.\n",
      "srv_rerror_rate: continuous.\n",
      "same_srv_rate: continuous.\n",
      "diff_srv_rate: continuous.\n",
      "srv_diff_host_rate: continuous.\n",
      "dst_host_count: continuous.\n",
      "dst_host_srv_count: continuous.\n",
      "dst_host_same_srv_rate: continuous.\n",
      "dst_host_diff_srv_rate: continuous.\n",
      "dst_host_same_src_port_rate: continuous.\n",
      "dst_host_srv_diff_host_rate: continuous.\n",
      "dst_host_serror_rate: continuous.\n",
      "dst_host_srv_serror_rate: continuous.\n",
      "dst_host_rerror_rate: continuous.\n",
      "dst_host_srv_rerror_rate: continuous.\n",
      "\n",
      "Total numbers of column :  42\n",
      "\n",
      "Attack Types are :  back dos\n",
      "buffer_overflow u2r\n",
      "ftp_write r2l\n",
      "guess_passwd r2l\n",
      "imap r2l\n",
      "ipsweep probe\n",
      "land dos\n",
      "loadmodule u2r\n",
      "multihop r2l\n",
      "neptune dos\n",
      "nmap probe\n",
      "perl u2r\n",
      "phf r2l\n",
      "pod dos\n",
      "portsweep probe\n",
      "rootkit u2r\n",
      "satan probe\n",
      "smurf dos\n",
      "spy r2l\n",
      "teardrop dos\n",
      "warezclient r2l\n",
      "warezmaster r2l\n",
      "\n",
      "\n"
     ]
    }
   ],
   "source": [
    "import os\n",
    "import pandas as pd\n",
    "import numpy as np\n",
    "import matplotlib.pyplot as plt\n",
    "import seaborn as sns\n",
    "import time\n",
    "\n",
    "\n",
    "# reading features list\n",
    "with open(\"C:\\\\Users\\\\biswajit\\\\OneDrive\\\\Desktop\\\\project\\\\data sets\\\\kddcup.names\", 'r') as features_list:\n",
    "    print(\"Reading Features list : \",features_list.read())\n",
    "    \n",
    "\n",
    "#  Appending columns to the dataset and adding a new column name ‘target’ to the dataset.\n",
    "cols =\"duration,protocol_type,service,flag,src_bytes,dst_bytes,land,wrong_fragment,urgent,hot,num_failed_logins,logged_in,num_compromised,root_shell,su_attempted,num_root,num_file_creations,num_shells,num_access_files,num_outbound_cmds,is_host_login,is_guest_login,count,srv_count,serror_rate,srv_serror_rate,rerror_rate,srv_rerror_rate,same_srv_rate,diff_srv_rate,srv_diff_host_rate,dst_host_count,dst_host_srv_count,dst_host_same_srv_rate,dst_host_diff_srv_rate,dst_host_same_src_port_rate,dst_host_srv_diff_host_rate,dst_host_serror_rate,dst_host_srv_serror_rate,dst_host_rerror_rate,dst_host_srv_rerror_rate\"\n",
    "\n",
    "columns =[]\n",
    "c=cols.split(',')\n",
    "#print(c)\n",
    "for i in range(len(c)):\n",
    "    columns.append(c[i].strip())\n",
    "\n",
    "columns.append('target')\n",
    "print(\"Total numbers of column : \",len(columns))\n",
    "print(\"\")\n",
    "\n",
    "#  Reading the ‘attack_types’ file.\n",
    "with open(\"C:\\\\Users\\\\biswajit\\\\OneDrive\\\\Desktop\\\\project\\\\data sets\\\\training_attack_types\", 'r') as attack_types:\n",
    "    print(\"Attack Types are : \",attack_types.read())\n",
    "    \n"
   ]
  },
  {
   "cell_type": "markdown",
   "id": "d5837b04-0dbf-400e-9523-6a22ff10b9d1",
   "metadata": {},
   "source": [
    "##  Creating a dictionary of attack_types"
   ]
  },
  {
   "cell_type": "code",
   "execution_count": 2,
   "id": "9eee2843-f0d1-4fd0-bb24-59015b67e802",
   "metadata": {},
   "outputs": [
    {
     "data": {
      "text/html": [
       "<div>\n",
       "<style scoped>\n",
       "    .dataframe tbody tr th:only-of-type {\n",
       "        vertical-align: middle;\n",
       "    }\n",
       "\n",
       "    .dataframe tbody tr th {\n",
       "        vertical-align: top;\n",
       "    }\n",
       "\n",
       "    .dataframe thead th {\n",
       "        text-align: right;\n",
       "    }\n",
       "</style>\n",
       "<table border=\"1\" class=\"dataframe\">\n",
       "  <thead>\n",
       "    <tr style=\"text-align: right;\">\n",
       "      <th></th>\n",
       "      <th>duration</th>\n",
       "      <th>protocol_type</th>\n",
       "      <th>service</th>\n",
       "      <th>flag</th>\n",
       "      <th>src_bytes</th>\n",
       "      <th>dst_bytes</th>\n",
       "      <th>land</th>\n",
       "      <th>wrong_fragment</th>\n",
       "      <th>urgent</th>\n",
       "      <th>hot</th>\n",
       "      <th>...</th>\n",
       "      <th>dst_host_same_srv_rate</th>\n",
       "      <th>dst_host_diff_srv_rate</th>\n",
       "      <th>dst_host_same_src_port_rate</th>\n",
       "      <th>dst_host_srv_diff_host_rate</th>\n",
       "      <th>dst_host_serror_rate</th>\n",
       "      <th>dst_host_srv_serror_rate</th>\n",
       "      <th>dst_host_rerror_rate</th>\n",
       "      <th>dst_host_srv_rerror_rate</th>\n",
       "      <th>target</th>\n",
       "      <th>Attack Type</th>\n",
       "    </tr>\n",
       "  </thead>\n",
       "  <tbody>\n",
       "    <tr>\n",
       "      <th>0</th>\n",
       "      <td>0</td>\n",
       "      <td>tcp</td>\n",
       "      <td>http</td>\n",
       "      <td>SF</td>\n",
       "      <td>181</td>\n",
       "      <td>5450</td>\n",
       "      <td>0</td>\n",
       "      <td>0</td>\n",
       "      <td>0</td>\n",
       "      <td>0</td>\n",
       "      <td>...</td>\n",
       "      <td>1.0</td>\n",
       "      <td>0.0</td>\n",
       "      <td>0.11</td>\n",
       "      <td>0.0</td>\n",
       "      <td>0.0</td>\n",
       "      <td>0.0</td>\n",
       "      <td>0.0</td>\n",
       "      <td>0.0</td>\n",
       "      <td>normal.</td>\n",
       "      <td>normal</td>\n",
       "    </tr>\n",
       "    <tr>\n",
       "      <th>1</th>\n",
       "      <td>0</td>\n",
       "      <td>tcp</td>\n",
       "      <td>http</td>\n",
       "      <td>SF</td>\n",
       "      <td>239</td>\n",
       "      <td>486</td>\n",
       "      <td>0</td>\n",
       "      <td>0</td>\n",
       "      <td>0</td>\n",
       "      <td>0</td>\n",
       "      <td>...</td>\n",
       "      <td>1.0</td>\n",
       "      <td>0.0</td>\n",
       "      <td>0.05</td>\n",
       "      <td>0.0</td>\n",
       "      <td>0.0</td>\n",
       "      <td>0.0</td>\n",
       "      <td>0.0</td>\n",
       "      <td>0.0</td>\n",
       "      <td>normal.</td>\n",
       "      <td>normal</td>\n",
       "    </tr>\n",
       "    <tr>\n",
       "      <th>2</th>\n",
       "      <td>0</td>\n",
       "      <td>tcp</td>\n",
       "      <td>http</td>\n",
       "      <td>SF</td>\n",
       "      <td>235</td>\n",
       "      <td>1337</td>\n",
       "      <td>0</td>\n",
       "      <td>0</td>\n",
       "      <td>0</td>\n",
       "      <td>0</td>\n",
       "      <td>...</td>\n",
       "      <td>1.0</td>\n",
       "      <td>0.0</td>\n",
       "      <td>0.03</td>\n",
       "      <td>0.0</td>\n",
       "      <td>0.0</td>\n",
       "      <td>0.0</td>\n",
       "      <td>0.0</td>\n",
       "      <td>0.0</td>\n",
       "      <td>normal.</td>\n",
       "      <td>normal</td>\n",
       "    </tr>\n",
       "    <tr>\n",
       "      <th>3</th>\n",
       "      <td>0</td>\n",
       "      <td>tcp</td>\n",
       "      <td>http</td>\n",
       "      <td>SF</td>\n",
       "      <td>219</td>\n",
       "      <td>1337</td>\n",
       "      <td>0</td>\n",
       "      <td>0</td>\n",
       "      <td>0</td>\n",
       "      <td>0</td>\n",
       "      <td>...</td>\n",
       "      <td>1.0</td>\n",
       "      <td>0.0</td>\n",
       "      <td>0.03</td>\n",
       "      <td>0.0</td>\n",
       "      <td>0.0</td>\n",
       "      <td>0.0</td>\n",
       "      <td>0.0</td>\n",
       "      <td>0.0</td>\n",
       "      <td>normal.</td>\n",
       "      <td>normal</td>\n",
       "    </tr>\n",
       "    <tr>\n",
       "      <th>4</th>\n",
       "      <td>0</td>\n",
       "      <td>tcp</td>\n",
       "      <td>http</td>\n",
       "      <td>SF</td>\n",
       "      <td>217</td>\n",
       "      <td>2032</td>\n",
       "      <td>0</td>\n",
       "      <td>0</td>\n",
       "      <td>0</td>\n",
       "      <td>0</td>\n",
       "      <td>...</td>\n",
       "      <td>1.0</td>\n",
       "      <td>0.0</td>\n",
       "      <td>0.02</td>\n",
       "      <td>0.0</td>\n",
       "      <td>0.0</td>\n",
       "      <td>0.0</td>\n",
       "      <td>0.0</td>\n",
       "      <td>0.0</td>\n",
       "      <td>normal.</td>\n",
       "      <td>normal</td>\n",
       "    </tr>\n",
       "  </tbody>\n",
       "</table>\n",
       "<p>5 rows × 43 columns</p>\n",
       "</div>"
      ],
      "text/plain": [
       "   duration protocol_type service flag  src_bytes  dst_bytes  land  \\\n",
       "0         0           tcp    http   SF        181       5450     0   \n",
       "1         0           tcp    http   SF        239        486     0   \n",
       "2         0           tcp    http   SF        235       1337     0   \n",
       "3         0           tcp    http   SF        219       1337     0   \n",
       "4         0           tcp    http   SF        217       2032     0   \n",
       "\n",
       "   wrong_fragment  urgent  hot  ...  dst_host_same_srv_rate  \\\n",
       "0               0       0    0  ...                     1.0   \n",
       "1               0       0    0  ...                     1.0   \n",
       "2               0       0    0  ...                     1.0   \n",
       "3               0       0    0  ...                     1.0   \n",
       "4               0       0    0  ...                     1.0   \n",
       "\n",
       "   dst_host_diff_srv_rate  dst_host_same_src_port_rate  \\\n",
       "0                     0.0                         0.11   \n",
       "1                     0.0                         0.05   \n",
       "2                     0.0                         0.03   \n",
       "3                     0.0                         0.03   \n",
       "4                     0.0                         0.02   \n",
       "\n",
       "   dst_host_srv_diff_host_rate  dst_host_serror_rate  \\\n",
       "0                          0.0                   0.0   \n",
       "1                          0.0                   0.0   \n",
       "2                          0.0                   0.0   \n",
       "3                          0.0                   0.0   \n",
       "4                          0.0                   0.0   \n",
       "\n",
       "   dst_host_srv_serror_rate  dst_host_rerror_rate  dst_host_srv_rerror_rate  \\\n",
       "0                       0.0                   0.0                       0.0   \n",
       "1                       0.0                   0.0                       0.0   \n",
       "2                       0.0                   0.0                       0.0   \n",
       "3                       0.0                   0.0                       0.0   \n",
       "4                       0.0                   0.0                       0.0   \n",
       "\n",
       "    target  Attack Type  \n",
       "0  normal.       normal  \n",
       "1  normal.       normal  \n",
       "2  normal.       normal  \n",
       "3  normal.       normal  \n",
       "4  normal.       normal  \n",
       "\n",
       "[5 rows x 43 columns]"
      ]
     },
     "execution_count": 2,
     "metadata": {},
     "output_type": "execute_result"
    }
   ],
   "source": [
    "\n",
    "attacks_types = {\n",
    "    'normal': 'normal',\n",
    "'back': 'dos',\n",
    "'buffer_overflow': 'u2r',\n",
    "'ftp_write': 'r2l',\n",
    "'guess_passwd': 'r2l',\n",
    "'imap': 'r2l',\n",
    "'ipsweep': 'probe',\n",
    "'land': 'dos',\n",
    "'loadmodule': 'u2r',\n",
    "'multihop': 'r2l',\n",
    "'neptune': 'dos',\n",
    "'nmap': 'probe',\n",
    "'perl': 'u2r',\n",
    "'phf': 'r2l',\n",
    "'pod': 'dos',\n",
    "'portsweep': 'probe',\n",
    "'rootkit': 'u2r',\n",
    "'satan': 'probe',\n",
    "'smurf': 'dos',\n",
    "'spy': 'r2l',\n",
    "'teardrop': 'dos',\n",
    "'warezclient': 'r2l',\n",
    "'warezmaster': 'r2l',\n",
    "}\n",
    "\n",
    "\n",
    "df = pd.read_csv(\"C:\\\\Users\\\\biswajit\\\\OneDrive\\\\Desktop\\\\project\\\\data sets\\\\kddcup.data_10_percent.gz\", names = columns)\n",
    "\n",
    "# Adding Attack Type column\n",
    "df['Attack Type'] = df.target.apply(lambda r:attacks_types[r[:-1]])\n",
    "df.head()"
   ]
  },
  {
   "cell_type": "code",
   "execution_count": 3,
   "id": "22439bc8-edbf-4bf7-b16a-c2ffd8116577",
   "metadata": {},
   "outputs": [
    {
     "data": {
      "text/plain": [
       "(494021, 43)"
      ]
     },
     "execution_count": 3,
     "metadata": {},
     "output_type": "execute_result"
    }
   ],
   "source": [
    "df.shape"
   ]
  },
  {
   "cell_type": "code",
   "execution_count": 4,
   "id": "55f29d3b-f708-4ac5-a097-f139ecf633ab",
   "metadata": {},
   "outputs": [
    {
     "data": {
      "text/plain": [
       "duration                       0\n",
       "protocol_type                  0\n",
       "service                        0\n",
       "flag                           0\n",
       "src_bytes                      0\n",
       "dst_bytes                      0\n",
       "land                           0\n",
       "wrong_fragment                 0\n",
       "urgent                         0\n",
       "hot                            0\n",
       "num_failed_logins              0\n",
       "logged_in                      0\n",
       "num_compromised                0\n",
       "root_shell                     0\n",
       "su_attempted                   0\n",
       "num_root                       0\n",
       "num_file_creations             0\n",
       "num_shells                     0\n",
       "num_access_files               0\n",
       "num_outbound_cmds              0\n",
       "is_host_login                  0\n",
       "is_guest_login                 0\n",
       "count                          0\n",
       "srv_count                      0\n",
       "serror_rate                    0\n",
       "srv_serror_rate                0\n",
       "rerror_rate                    0\n",
       "srv_rerror_rate                0\n",
       "same_srv_rate                  0\n",
       "diff_srv_rate                  0\n",
       "srv_diff_host_rate             0\n",
       "dst_host_count                 0\n",
       "dst_host_srv_count             0\n",
       "dst_host_same_srv_rate         0\n",
       "dst_host_diff_srv_rate         0\n",
       "dst_host_same_src_port_rate    0\n",
       "dst_host_srv_diff_host_rate    0\n",
       "dst_host_serror_rate           0\n",
       "dst_host_srv_serror_rate       0\n",
       "dst_host_rerror_rate           0\n",
       "dst_host_srv_rerror_rate       0\n",
       "target                         0\n",
       "Attack Type                    0\n",
       "dtype: int64"
      ]
     },
     "execution_count": 4,
     "metadata": {},
     "output_type": "execute_result"
    }
   ],
   "source": [
    "df.isnull().sum()"
   ]
  },
  {
   "cell_type": "markdown",
   "id": "87492a96-bc93-4910-9f76-84f2e959f954",
   "metadata": {},
   "source": [
    "## Finding categorical features"
   ]
  },
  {
   "cell_type": "code",
   "execution_count": 5,
   "id": "f227f433-2fba-401d-8ff1-657769c5daae",
   "metadata": {},
   "outputs": [
    {
     "data": {
      "text/plain": [
       "['flag', 'service', 'protocol_type']"
      ]
     },
     "execution_count": 5,
     "metadata": {},
     "output_type": "execute_result"
    }
   ],
   "source": [
    "num_cols = df._get_numeric_data().columns\n",
    "\n",
    "cate_cols = list(set(df.columns)-set(num_cols))\n",
    "cate_cols.remove('target')\n",
    "cate_cols.remove('Attack Type')\n",
    "\n",
    "cate_cols"
   ]
  },
  {
   "cell_type": "markdown",
   "id": "b412327f-4518-473e-b122-efc0e6fbfc0f",
   "metadata": {},
   "source": [
    "##  Data Correlation – Find the highly correlated variables using heatmap and ignore them for analysis"
   ]
  },
  {
   "cell_type": "code",
   "execution_count": 6,
   "id": "42716327-265e-4aa1-ab80-475e207369f2",
   "metadata": {},
   "outputs": [
    {
     "data": {
      "image/png": "[encoded data removed]",
      "text/plain": [
       "<Figure size 576x432 with 2 Axes>"
      ]
     },
     "metadata": {
      "needs_background": "light"
     },
     "output_type": "display_data"
    }
   ],
   "source": [
    "df = df.dropna(axis=1)# drop columns with NaN\n",
    "\n",
    "df = df[[col for col in df if df[col].nunique() > 1]]# keep columns where there are more than \n",
    "                                                     # 1 unique values\n",
    "\n",
    "corr = df.corr()\n",
    "#print(corr)\n",
    "plt.figure(figsize =(8, 6))\n",
    "\n",
    "sns.heatmap(corr)\n",
    "\n",
    "plt.show()"
   ]
  },
  {
   "cell_type": "code",
   "execution_count": 9,
   "id": "c1fcdee3",
   "metadata": {},
   "outputs": [
    {
     "data": {
      "text/plain": [
       "0.9938277978738129"
      ]
     },
     "execution_count": 9,
     "metadata": {},
     "output_type": "execute_result"
    }
   ],
   "source": [
    "df['num_root'].corr(df['num_compromised'])"
   ]
  },
  {
   "cell_type": "code",
   "execution_count": 10,
   "id": "a1d94b71",
   "metadata": {},
   "outputs": [
    {
     "data": {
      "text/plain": [
       "0.9983615072725588"
      ]
     },
     "execution_count": 10,
     "metadata": {},
     "output_type": "execute_result"
    }
   ],
   "source": [
    "df['srv_serror_rate'].corr(df['serror_rate'])"
   ]
  },
  {
   "cell_type": "code",
   "execution_count": 11,
   "id": "37bb4f01",
   "metadata": {},
   "outputs": [
    {
     "data": {
      "text/plain": [
       "0.9436670688882609"
      ]
     },
     "execution_count": 11,
     "metadata": {},
     "output_type": "execute_result"
    }
   ],
   "source": [
    "df['srv_count'].corr(df['count'])"
   ]
  },
  {
   "cell_type": "code",
   "execution_count": 12,
   "id": "6d55612d",
   "metadata": {},
   "outputs": [
    {
     "data": {
      "text/plain": [
       "0.9947309539818195"
      ]
     },
     "execution_count": 12,
     "metadata": {},
     "output_type": "execute_result"
    }
   ],
   "source": [
    "df['srv_rerror_rate'].corr(df['rerror_rate'])"
   ]
  },
  {
   "cell_type": "code",
   "execution_count": 13,
   "id": "cfe745a6",
   "metadata": {},
   "outputs": [
    {
     "data": {
      "text/plain": [
       "0.9736854572953938"
      ]
     },
     "execution_count": 13,
     "metadata": {},
     "output_type": "execute_result"
    }
   ],
   "source": [
    "df['dst_host_same_srv_rate'].corr(df['dst_host_srv_count'])"
   ]
  },
  {
   "cell_type": "code",
   "execution_count": 14,
   "id": "09d190ce",
   "metadata": {},
   "outputs": [
    {
     "data": {
      "text/plain": [
       "0.9981559173373276"
      ]
     },
     "execution_count": 14,
     "metadata": {},
     "output_type": "execute_result"
    }
   ],
   "source": [
    "df['dst_host_srv_serror_rate'].corr(df['dst_host_serror_rate'])"
   ]
  },
  {
   "cell_type": "code",
   "execution_count": 15,
   "id": "4243a5c5",
   "metadata": {},
   "outputs": [
    {
     "data": {
      "text/plain": [
       "0.9848038371110384"
      ]
     },
     "execution_count": 15,
     "metadata": {},
     "output_type": "execute_result"
    }
   ],
   "source": [
    "df['dst_host_srv_rerror_rate'].corr(df['dst_host_rerror_rate'])"
   ]
  },
  {
   "cell_type": "code",
   "execution_count": 16,
   "id": "81dded2d",
   "metadata": {},
   "outputs": [
    {
     "data": {
      "text/plain": [
       "0.9278080342691318"
      ]
     },
     "execution_count": 16,
     "metadata": {},
     "output_type": "execute_result"
    }
   ],
   "source": [
    "df['dst_host_same_srv_rate'].corr(df['same_srv_rate'])"
   ]
  },
  {
   "cell_type": "code",
   "execution_count": 17,
   "id": "816f9390",
   "metadata": {},
   "outputs": [
    {
     "data": {
      "text/plain": [
       "0.8989546630323971"
      ]
     },
     "execution_count": 17,
     "metadata": {},
     "output_type": "execute_result"
    }
   ],
   "source": [
    "df['dst_host_srv_count'].corr(df['same_srv_rate'])"
   ]
  },
  {
   "cell_type": "code",
   "execution_count": 18,
   "id": "45c7e95f",
   "metadata": {},
   "outputs": [
    {
     "data": {
      "text/plain": [
       "0.9449263676783212"
      ]
     },
     "execution_count": 18,
     "metadata": {},
     "output_type": "execute_result"
    }
   ],
   "source": [
    "df['dst_host_same_src_port_rate'].corr(df['srv_count'])"
   ]
  },
  {
   "cell_type": "code",
   "execution_count": 19,
   "id": "9b2bc162",
   "metadata": {},
   "outputs": [
    {
     "data": {
      "text/plain": [
       "0.9986729680105014"
      ]
     },
     "execution_count": 19,
     "metadata": {},
     "output_type": "execute_result"
    }
   ],
   "source": [
    "df['dst_host_serror_rate'].corr(df['serror_rate'])"
   ]
  },
  {
   "cell_type": "code",
   "execution_count": 20,
   "id": "50600947",
   "metadata": {},
   "outputs": [
    {
     "data": {
      "text/plain": [
       "0.997835300373957"
      ]
     },
     "execution_count": 20,
     "metadata": {},
     "output_type": "execute_result"
    }
   ],
   "source": [
    "df['dst_host_serror_rate'].corr(df['srv_serror_rate'])"
   ]
  },
  {
   "cell_type": "code",
   "execution_count": 21,
   "id": "b16c705a",
   "metadata": {},
   "outputs": [
    {
     "data": {
      "text/plain": [
       "0.9978492485679914"
      ]
     },
     "execution_count": 21,
     "metadata": {},
     "output_type": "execute_result"
    }
   ],
   "source": [
    "df['dst_host_srv_serror_rate'].corr(df['serror_rate'])"
   ]
  },
  {
   "cell_type": "code",
   "execution_count": 22,
   "id": "c4229273",
   "metadata": {},
   "outputs": [
    {
     "data": {
      "text/plain": [
       "0.9993041091849968"
      ]
     },
     "execution_count": 22,
     "metadata": {},
     "output_type": "execute_result"
    }
   ],
   "source": [
    "df['dst_host_srv_serror_rate'].corr(df['srv_serror_rate'])"
   ]
  },
  {
   "cell_type": "code",
   "execution_count": 23,
   "id": "3ae4cf04",
   "metadata": {},
   "outputs": [
    {
     "data": {
      "text/plain": [
       "0.986994792495607"
      ]
     },
     "execution_count": 23,
     "metadata": {},
     "output_type": "execute_result"
    }
   ],
   "source": [
    "df['dst_host_rerror_rate'].corr(df['rerror_rate'])"
   ]
  },
  {
   "cell_type": "code",
   "execution_count": 24,
   "id": "d4c2bcf6",
   "metadata": {},
   "outputs": [
    {
     "data": {
      "text/plain": [
       "0.9821663427308442"
      ]
     },
     "execution_count": 24,
     "metadata": {},
     "output_type": "execute_result"
    }
   ],
   "source": [
    "df['dst_host_rerror_rate'].corr(df['srv_rerror_rate'])"
   ]
  },
  {
   "cell_type": "code",
   "execution_count": 25,
   "id": "035eff4e",
   "metadata": {},
   "outputs": [
    {
     "data": {
      "text/plain": [
       "0.9851995540751446"
      ]
     },
     "execution_count": 25,
     "metadata": {},
     "output_type": "execute_result"
    }
   ],
   "source": [
    "df['dst_host_srv_rerror_rate'].corr(df['rerror_rate'])"
   ]
  },
  {
   "cell_type": "code",
   "execution_count": 26,
   "id": "f7989b13",
   "metadata": {},
   "outputs": [
    {
     "data": {
      "text/plain": [
       "0.9865705438845719"
      ]
     },
     "execution_count": 26,
     "metadata": {},
     "output_type": "execute_result"
    }
   ],
   "source": [
    "df['dst_host_srv_rerror_rate'].corr(df['srv_rerror_rate'])"
   ]
  },
  {
   "cell_type": "code",
   "execution_count": 27,
   "id": "b5f152e4-4eb1-44fd-a8d9-9c1651542bef",
   "metadata": {},
   "outputs": [],
   "source": [
    "# This variable is highly correlated with num_compromised and should be ignored for analysis.\n",
    "#(Correlation = 0.9938277978738366)\n",
    "df.drop('num_root', axis = 1, inplace = True)\n",
    "\n",
    "# This variable is highly correlated with serror_rate and should be ignored for analysis.\n",
    "#(Correlation = 0.9983615072725952)\n",
    "df.drop('srv_serror_rate', axis = 1, inplace = True)\n",
    "\n",
    "# This variable is highly correlated with rerror_rate and should be ignored for analysis.\n",
    "#(Correlation = 0.9947309539817937)\n",
    "df.drop('srv_rerror_rate', axis = 1, inplace = True)\n",
    "\n",
    "# This variable is highly correlated with srv_serror_rate and should be ignored for analysis.\n",
    "#(Correlation = 0.9993041091850098)\n",
    "df.drop('dst_host_srv_serror_rate', axis = 1, inplace = True)\n",
    "\n",
    "# This variable is highly correlated with rerror_rate and should be ignored for analysis.\n",
    "#(Correlation = 0.9869947924956001)\n",
    "df.drop('dst_host_serror_rate', axis = 1, inplace = True)\n",
    "\n",
    "# This variable is highly correlated with srv_rerror_rate and should be ignored for analysis.\n",
    "#(Correlation = 0.9821663427308375)\n",
    "df.drop('dst_host_rerror_rate', axis = 1, inplace = True)\n",
    "\n",
    "# This variable is highly correlated with rerror_rate and should be ignored for analysis.\n",
    "#(Correlation = 0.9851995540751249)\n",
    "df.drop('dst_host_srv_rerror_rate', axis = 1, inplace = True)\n",
    "\n",
    "# This variable is highly correlated with srv_rerror_rate and should be ignored for analysis.\n",
    "#(Correlation = 0.9865705438845669)\n",
    "df.drop('dst_host_same_srv_rate', axis = 1, inplace = True)"
   ]
  },
  {
   "cell_type": "markdown",
   "id": "608b89a9-97f6-44a8-a9ef-fb8d7fdbfc16",
   "metadata": {},
   "source": [
    "##  Protocol_type feature mapping"
   ]
  },
  {
   "cell_type": "code",
   "execution_count": 28,
   "id": "3b18fbb7-ca1d-4683-b9c4-91848ac480bb",
   "metadata": {},
   "outputs": [
    {
     "name": "stdout",
     "output_type": "stream",
     "text": [
      "        duration  protocol_type  flag  src_bytes  dst_bytes  land  \\\n",
      "0              0              1     0        181       5450     0   \n",
      "1              0              1     0        239        486     0   \n",
      "2              0              1     0        235       1337     0   \n",
      "3              0              1     0        219       1337     0   \n",
      "4              0              1     0        217       2032     0   \n",
      "...          ...            ...   ...        ...        ...   ...   \n",
      "494016         0              1     0        310       1881     0   \n",
      "494017         0              1     0        282       2286     0   \n",
      "494018         0              1     0        203       1200     0   \n",
      "494019         0              1     0        291       1200     0   \n",
      "494020         0              1     0        219       1234     0   \n",
      "\n",
      "        wrong_fragment  urgent  hot  num_failed_logins  ...  rerror_rate  \\\n",
      "0                    0       0    0                  0  ...          0.0   \n",
      "1                    0       0    0                  0  ...          0.0   \n",
      "2                    0       0    0                  0  ...          0.0   \n",
      "3                    0       0    0                  0  ...          0.0   \n",
      "4                    0       0    0                  0  ...          0.0   \n",
      "...                ...     ...  ...                ...  ...          ...   \n",
      "494016               0       0    0                  0  ...          0.0   \n",
      "494017               0       0    0                  0  ...          0.0   \n",
      "494018               0       0    0                  0  ...          0.0   \n",
      "494019               0       0    0                  0  ...          0.0   \n",
      "494020               0       0    0                  0  ...          0.0   \n",
      "\n",
      "        same_srv_rate  diff_srv_rate  srv_diff_host_rate  dst_host_count  \\\n",
      "0                 1.0            0.0                0.00               9   \n",
      "1                 1.0            0.0                0.00              19   \n",
      "2                 1.0            0.0                0.00              29   \n",
      "3                 1.0            0.0                0.00              39   \n",
      "4                 1.0            0.0                0.00              49   \n",
      "...               ...            ...                 ...             ...   \n",
      "494016            1.0            0.0                0.40              86   \n",
      "494017            1.0            0.0                0.00               6   \n",
      "494018            1.0            0.0                0.17              16   \n",
      "494019            1.0            0.0                0.17              26   \n",
      "494020            1.0            0.0                0.14               6   \n",
      "\n",
      "        dst_host_srv_count  dst_host_diff_srv_rate  \\\n",
      "0                        9                     0.0   \n",
      "1                       19                     0.0   \n",
      "2                       29                     0.0   \n",
      "3                       39                     0.0   \n",
      "4                       49                     0.0   \n",
      "...                    ...                     ...   \n",
      "494016                 255                     0.0   \n",
      "494017                 255                     0.0   \n",
      "494018                 255                     0.0   \n",
      "494019                 255                     0.0   \n",
      "494020                 255                     0.0   \n",
      "\n",
      "        dst_host_same_src_port_rate  dst_host_srv_diff_host_rate  Attack Type  \n",
      "0                              0.11                         0.00       normal  \n",
      "1                              0.05                         0.00       normal  \n",
      "2                              0.03                         0.00       normal  \n",
      "3                              0.03                         0.00       normal  \n",
      "4                              0.02                         0.00       normal  \n",
      "...                             ...                          ...          ...  \n",
      "494016                         0.01                         0.05       normal  \n",
      "494017                         0.17                         0.05       normal  \n",
      "494018                         0.06                         0.05       normal  \n",
      "494019                         0.04                         0.05       normal  \n",
      "494020                         0.17                         0.05       normal  \n",
      "\n",
      "[494021 rows x 31 columns]\n"
     ]
    }
   ],
   "source": [
    "pmap = {'icmp':0, 'tcp':1, 'udp':2}\n",
    "df['protocol_type'] = df['protocol_type'].map(pmap)\n",
    "\n",
    "# flag feature mapping\n",
    "\n",
    "fmap = {'SF':0, 'S0':1, 'REJ':2, 'RSTR':3, 'RSTO':4, 'SH':5, 'S1':6, 'S2':7, 'RSTOS0':8,\n",
    "        'S3':9, 'OTH':10}\n",
    "df['flag'] = df['flag'].map(fmap)\n",
    "\n",
    "df=df.drop(['service'], axis = 1)\n",
    "df=df.drop(['target'], axis = 1)\n",
    "y = df[['Attack Type']]\n",
    "x = df.drop(['Attack Type', ], axis = 1)\n",
    "print(df)"
   ]
  },
  {
   "cell_type": "markdown",
   "id": "d68100b7-048b-4cd0-97e4-70ae2e5146a9",
   "metadata": {},
   "source": [
    "## Importing libraries and splitting the dataset.\n"
   ]
  },
  {
   "cell_type": "code",
   "execution_count": 29,
   "id": "cbc9ae3f-4bfc-40c8-a761-7ae29dff6919",
   "metadata": {},
   "outputs": [
    {
     "name": "stdout",
     "output_type": "stream",
     "text": [
      "(494021, 31)\n",
      "(330994, 30) (163027, 30)\n",
      "(330994, 1) (163027, 1)\n"
     ]
    }
   ],
   "source": [
    "from sklearn.model_selection import train_test_split\n",
    "from sklearn.preprocessing import MinMaxScaler\n",
    "\n",
    "\n",
    "s = MinMaxScaler()\n",
    "x = s.fit_transform(x)\n",
    "\n",
    "# Split test and train data\n",
    "\n",
    "x_train, x_test, y_train, y_test = train_test_split(x, y, test_size = 0.33, random_state = 42)\n",
    "\n",
    "print(df.shape)\n",
    "print(x_train.shape, x_test.shape)\n",
    "print(y_train.shape, y_test.shape)"
   ]
  },
  {
   "cell_type": "code",
   "execution_count": 30,
   "id": "0f110a94-e679-4d74-83f8-d207fd91ac9c",
   "metadata": {},
   "outputs": [],
   "source": [
    "train_score_list=[]\n",
    "test_score_list=[]\n",
    "training_time=[]\n",
    "testing_time=[]"
   ]
  },
  {
   "cell_type": "markdown",
   "id": "e6c61d12-4734-41de-bee8-5423bf03341b",
   "metadata": {},
   "source": [
    "# Using different types of models ."
   ]
  },
  {
   "cell_type": "markdown",
   "id": "3a26b409-46e7-4c41-8819-7a32b1807371",
   "metadata": {},
   "source": [
    "## 1. Gaussian Naive Bayes ."
   ]
  },
  {
   "cell_type": "code",
   "execution_count": 31,
   "id": "a8620195-dbab-42ec-8103-59d2335a3e98",
   "metadata": {},
   "outputs": [
    {
     "name": "stdout",
     "output_type": "stream",
     "text": [
      "Training time Gaussian Naive Bayes model is :  1.2747786045074463\n",
      "Testing time Gaussian Naive Bayes model is :  1.2309329509735107\n",
      " \n",
      "Train score of Gaussian Naive Bayes model is :  0.8795114110829804\n",
      "Test score of Gaussian Naive Bayes model is :  0.8790384414851528\n"
     ]
    }
   ],
   "source": [
    "from sklearn.naive_bayes import GaussianNB\n",
    "from sklearn.metrics import accuracy_score\n",
    "\n",
    "Naive_Bayes = GaussianNB()\n",
    "\n",
    "start_time = time.time()\n",
    "y=y_train.values.ravel()\n",
    "Naive_Bayes=Naive_Bayes.fit(x_train, y)\n",
    "end_time = time.time()\n",
    "training_time.append(end_time-start_time)\n",
    "print(\"Training time Gaussian Naive Bayes model is : \", end_time-start_time)\n",
    "\n",
    "start_time = time.time()\n",
    "y_test_pred = Naive_Bayes.predict(x_train)\n",
    "end_time = time.time()\n",
    "testing_time.append(end_time-start_time)\n",
    "print(\"Testing time Gaussian Naive Bayes model is : \", end_time-start_time)\n",
    "print(\" \")\n",
    "\n",
    "train_score=Naive_Bayes.score(x_train, y_train)\n",
    "train_score_list.append(train_score)\n",
    "test_score=Naive_Bayes.score(x_test, y_test)\n",
    "test_score_list.append(test_score)\n",
    "\n",
    "print(\"Train score of Gaussian Naive Bayes model is : \",train_score)\n",
    "print(\"Test score of Gaussian Naive Bayes model is : \",test_score)"
   ]
  },
  {
   "cell_type": "markdown",
   "id": "b3b4ea35-dcc3-4c76-88b8-76897644db2d",
   "metadata": {},
   "source": [
    "## 2. Decision Tree ."
   ]
  },
  {
   "cell_type": "code",
   "execution_count": 32,
   "id": "50eca12d-cf26-4a6c-92f3-335f36e595e8",
   "metadata": {},
   "outputs": [
    {
     "name": "stdout",
     "output_type": "stream",
     "text": [
      "Training time Decision Tree model is :  2.121811866760254\n",
      "Testing time Decision Tree model is :  0.10397839546203613\n",
      " \n",
      "Train score of Decision Tree model is :  0.9905829108684749\n",
      "Test score of Decision Tree model is :  0.9905230421954646\n"
     ]
    }
   ],
   "source": [
    "from sklearn.tree import DecisionTreeClassifier\n",
    "\n",
    "Decision_Tree = DecisionTreeClassifier(criterion =\"entropy\", max_depth = 4)\n",
    "start_time = time.time()\n",
    "Decision_Tree.fit(x_train, y_train.values.ravel())\n",
    "end_time = time.time()\n",
    "training_time.append(end_time-start_time)\n",
    "print(\"Training time Decision Tree model is : \", end_time-start_time)\n",
    "\n",
    "start_time = time.time()\n",
    "y_test_pred = Decision_Tree.predict(x_train)\n",
    "end_time = time.time()\n",
    "testing_time.append(end_time-start_time)\n",
    "print(\"Testing time Decision Tree model is : \", end_time-start_time)\n",
    "print(\" \")\n",
    "\n",
    "train_score=Decision_Tree.score(x_train, y_train)\n",
    "train_score_list.append(train_score)\n",
    "test_score=Decision_Tree.score(x_test, y_test)\n",
    "test_score_list.append(test_score)\n",
    "\n",
    "print(\"Train score of Decision Tree model is : \",train_score)\n",
    "print(\"Test score of Decision Tree model is : \",test_score)"
   ]
  },
  {
   "cell_type": "markdown",
   "id": "d37e17f2-50e9-407d-ad5c-5f896459013d",
   "metadata": {},
   "source": [
    "## 3. Random Forest ."
   ]
  },
  {
   "cell_type": "code",
   "execution_count": 33,
   "id": "e8944fad-8943-48d3-a380-f3fdd99e55e6",
   "metadata": {},
   "outputs": [
    {
     "name": "stdout",
     "output_type": "stream",
     "text": [
      "Training time Random Forest model is :  15.258458852767944\n",
      "Testing time Random Forest model is :  2.49009108543396\n",
      " \n",
      "Train score of Random Forest model is :  0.99997583037759\n",
      "Test score of Random Forest model is :  0.9996687665233366\n"
     ]
    }
   ],
   "source": [
    "from sklearn.ensemble import RandomForestClassifier\n",
    "\n",
    "Random_Forest = RandomForestClassifier(n_estimators = 30)\n",
    "\n",
    "start_time = time.time()\n",
    "Random_Forest.fit(x_train, y_train.values.ravel())\n",
    "end_time = time.time()\n",
    "training_time.append(end_time-start_time)\n",
    "print(\"Training time Random Forest model is : \", end_time-start_time)\n",
    "\n",
    "start_time = time.time()\n",
    "y_test_pred = Random_Forest.predict(x_train)\n",
    "end_time = time.time()\n",
    "testing_time.append(end_time-start_time)\n",
    "print(\"Testing time Random Forest model is : \", end_time-start_time)\n",
    "print(\" \")\n",
    "\n",
    "train_score=Random_Forest.score(x_train, y_train)\n",
    "train_score_list.append(train_score)\n",
    "test_score=Random_Forest.score(x_test, y_test)\n",
    "test_score_list.append(test_score)\n",
    "\n",
    "print(\"Train score of Random Forest model is : \",train_score)\n",
    "print(\"Test score of Random Forest model is : \",test_score)"
   ]
  },
  {
   "cell_type": "markdown",
   "id": "e5af5a08-9687-4223-ac37-0748b9d2f1a5",
   "metadata": {},
   "source": [
    "## 4. SVM ."
   ]
  },
  {
   "cell_type": "code",
   "execution_count": 34,
   "id": "b7ff5b02-3f1e-448e-b617-a75e60109d04",
   "metadata": {},
   "outputs": [
    {
     "name": "stdout",
     "output_type": "stream",
     "text": [
      "Training time SVM model is :  294.63923025131226\n",
      "Testing time SVM model is :  440.5936372280121\n",
      " \n",
      "Train score of SVM model is :  0.9987552644458811\n",
      "Test score of SVM model is :  0.9987916112055059\n"
     ]
    }
   ],
   "source": [
    "from sklearn.svm import SVC\n",
    "\n",
    "SVM = SVC(gamma = 'scale')\n",
    "\n",
    "start_time = time.time()\n",
    "SVM.fit(x_train, y_train.values.ravel())\n",
    "end_time = time.time()\n",
    "training_time.append(end_time-start_time)\n",
    "print(\"Training time SVM model is : \", end_time-start_time)\n",
    "\n",
    "start_time = time.time()\n",
    "y_test_pred = SVM.predict(x_train)\n",
    "end_time = time.time()\n",
    "testing_time.append(end_time-start_time)\n",
    "print(\"Testing time SVM model is : \", end_time-start_time)\n",
    "print(\" \")\n",
    "\n",
    "train_score=SVM.score(x_train, y_train)\n",
    "train_score_list.append(train_score)\n",
    "test_score=SVM.score(x_test, y_test)\n",
    "test_score_list.append(test_score)\n",
    "\n",
    "print(\"Train score of SVM model is : \",train_score)\n",
    "print(\"Test score of SVM model is : \",test_score)"
   ]
  },
  {
   "cell_type": "code",
   "execution_count": null,
   "id": "4ab923b5",
   "metadata": {},
   "outputs": [],
   "source": []
  },
  {
   "cell_type": "markdown",
   "id": "0dcbffeb-5897-4b7c-bafc-92123ac57c04",
   "metadata": {},
   "source": [
    "## 5. Logistic Regression ."
   ]
  },
  {
   "cell_type": "code",
   "execution_count": 35,
   "id": "0a140bfc-00a0-4125-8d87-cbff074308ac",
   "metadata": {},
   "outputs": [
    {
     "name": "stdout",
     "output_type": "stream",
     "text": [
      "Training time Logistic Regression model is :  97.29947090148926\n",
      "Testing time Logistic Regression model is :  0.0781090259552002\n",
      " \n",
      "Train score of Logistic Regression model is :  0.9935285835997028\n",
      "Test score of Logistic Regression model is :  0.9935286792985211\n"
     ]
    }
   ],
   "source": [
    "from sklearn.linear_model import LogisticRegression\n",
    "\n",
    "Logistic_Regression = LogisticRegression(max_iter = 1200000)\n",
    "\n",
    "start_time = time.time()\n",
    "Logistic_Regression.fit(x_train, y_train.values.ravel())\n",
    "end_time = time.time()\n",
    "training_time.append(end_time-start_time)\n",
    "print(\"Training time Logistic Regression model is : \", end_time-start_time)\n",
    "\n",
    "start_time = time.time()\n",
    "y_test_pred = Logistic_Regression.predict(x_train)\n",
    "end_time = time.time()\n",
    "testing_time.append(end_time-start_time)\n",
    "print(\"Testing time Logistic Regression model is : \", end_time-start_time)\n",
    "print(\" \")\n",
    "\n",
    "train_score=Logistic_Regression.score(x_train, y_train)\n",
    "train_score_list.append(train_score)\n",
    "test_score=Logistic_Regression.score(x_test, y_test)\n",
    "test_score_list.append(test_score)\n",
    "\n",
    "print(\"Train score of Logistic Regression model is : \",train_score)\n",
    "print(\"Test score of Logistic Regression model is : \",test_score)"
   ]
  },
  {
   "cell_type": "markdown",
   "id": "8cc8efc8-66bb-4580-8146-88a309afe692",
   "metadata": {},
   "source": [
    "## 6. Gradient Descent ."
   ]
  },
  {
   "cell_type": "code",
   "execution_count": 36,
   "id": "4c96fbc1-7fac-4aae-946d-76a3c61cec9c",
   "metadata": {},
   "outputs": [
    {
     "name": "stdout",
     "output_type": "stream",
     "text": [
      "Training time Gradient Descent model is :  682.2636125087738\n",
      "Testing time Gradient Descent model is :  4.001086235046387\n",
      " \n",
      "Train score of Gradient Descent model is :  0.9979304760811374\n",
      "Test score of Gradient Descent model is :  0.9977181693829856\n"
     ]
    }
   ],
   "source": [
    "from sklearn.ensemble import GradientBoostingClassifier\n",
    "\n",
    "Gradient_Descent = GradientBoostingClassifier(random_state = 0)\n",
    "\n",
    "start_time = time.time()\n",
    "Gradient_Descent.fit(x_train, y_train.values.ravel())\n",
    "end_time = time.time()\n",
    "training_time.append(end_time-start_time)\n",
    "print(\"Training time Gradient Descent model is : \", end_time-start_time)\n",
    "\n",
    "start_time = time.time()\n",
    "y_test_pred = Gradient_Descent.predict(x_train)\n",
    "end_time = time.time()\n",
    "testing_time.append(end_time-start_time)\n",
    "print(\"Testing time Gradient Descent model is : \", end_time-start_time)\n",
    "print(\" \")\n",
    "\n",
    "train_score=Gradient_Descent.score(x_train, y_train)\n",
    "train_score_list.append(train_score)\n",
    "test_score=Gradient_Descent.score(x_test, y_test)\n",
    "test_score_list.append(test_score)\n",
    "\n",
    "print(\"Train score of Gradient Descent model is : \",train_score)\n",
    "print(\"Test score of Gradient Descent model is : \",test_score)"
   ]
  },
  {
   "cell_type": "code",
   "execution_count": 40,
   "id": "ecef82b9",
   "metadata": {},
   "outputs": [
    {
     "name": "stdout",
     "output_type": "stream",
     "text": [
      "[0.8795114110829804, 0.9905829108684749, 0.99997583037759, 0.9987552644458811, 0.9935285835997028, 0.9979304760811374]\n",
      "[0.8790384414851528, 0.9905230421954646, 0.9996687665233366, 0.9987916112055059, 0.9935286792985211, 0.9977181693829856]\n",
      "[1.2747786045074463, 2.121811866760254, 15.258458852767944, 294.63923025131226, 97.29947090148926, 682.2636125087738]\n",
      "[1.2309329509735107, 0.10397839546203613, 2.49009108543396, 440.5936372280121, 0.0781090259552002, 4.001086235046387]\n"
     ]
    }
   ],
   "source": [
    "print(train_score_list)\n",
    "print(test_score_list)\n",
    "print(training_time)\n",
    "print(testing_time)"
   ]
  },
  {
   "cell_type": "markdown",
   "id": "3d118f59-395b-4c89-9de4-fdbc11cb0031",
   "metadata": {},
   "source": [
    "# Analyse the training accuracy of each model."
   ]
  },
  {
   "cell_type": "code",
   "execution_count": 41,
   "id": "151c5c4c",
   "metadata": {},
   "outputs": [
    {
     "name": "stdout",
     "output_type": "stream",
     "text": [
      "[87.951, 99.058, 99.998, 99.876, 99.353, 99.793]\n",
      "[87.904, 99.052, 99.967, 99.879, 99.353, 99.772]\n"
     ]
    }
   ],
   "source": [
    "def percent_list(x):\n",
    "    b=[]\n",
    "    for i in range(len(x)):\n",
    "        a=x[i]*100\n",
    "        a=round(a,3)\n",
    "        b.append(a)\n",
    "    return (b)\n",
    "\n",
    "training_percent=percent_list(train_score_list)\n",
    "testing_percent=percent_list(test_score_list)\n",
    "\n",
    "print(training_percent)\n",
    "print(testing_percent)"
   ]
  },
  {
   "cell_type": "code",
   "execution_count": 55,
   "id": "1b2a0917-86d2-488b-89a2-a5d4308a2fb8",
   "metadata": {},
   "outputs": [
    {
     "data": {
      "text/plain": [
       "<BarContainer object of 6 artists>"
      ]
     },
     "execution_count": 55,
     "metadata": {},
     "output_type": "execute_result"
    },
    {
     "data": {
      "image/png": "[encoded data removed]",
      "text/plain": [
       "<Figure size 2880x288 with 1 Axes>"
      ]
     },
     "metadata": {
      "needs_background": "light"
     },
     "output_type": "display_data"
    }
   ],
   "source": [
    "import numpy as np\n",
    "models = ['Naive Bayes', 'Decision Tree', 'random forest', 'SVM', 'Logistic Regression', 'Gradient Descent']\n",
    "\n",
    "# training percent graph .\n",
    "\n",
    "f = plt.figure(figsize =(40, 4), num = 10)\n",
    "plt.subplot(131)\n",
    "plt.bar(models, training_percent)"
   ]
  },
  {
   "cell_type": "code",
   "execution_count": 56,
   "id": "f7025baf",
   "metadata": {},
   "outputs": [
    {
     "data": {
      "text/plain": [
       "<BarContainer object of 6 artists>"
      ]
     },
     "execution_count": 56,
     "metadata": {},
     "output_type": "execute_result"
    },
    {
     "data": {
      "image/png": "[encoded data removed]",
      "text/plain": [
       "<Figure size 2880x288 with 1 Axes>"
      ]
     },
     "metadata": {
      "needs_background": "light"
     },
     "output_type": "display_data"
    }
   ],
   "source": [
    "# testing percent graph .\n",
    "\n",
    "f = plt.figure(figsize =(40, 4), num = 10)\n",
    "plt.subplot(131)\n",
    "plt.bar(models, testing_percent)"
   ]
  },
  {
   "cell_type": "markdown",
   "id": "9a2e37cf",
   "metadata": {},
   "source": [
    "#### Time Graph ."
   ]
  },
  {
   "cell_type": "code",
   "execution_count": 57,
   "id": "20dcfcc8",
   "metadata": {},
   "outputs": [],
   "source": [
    "for i in range(len(training_time)):\n",
    "    training_time[i]=round(training_time[i],5)\n",
    "    testing_time[i]=round(testing_time[i],5)"
   ]
  },
  {
   "cell_type": "code",
   "execution_count": 58,
   "id": "d0af0ac2",
   "metadata": {},
   "outputs": [
    {
     "data": {
      "text/plain": [
       "<BarContainer object of 6 artists>"
      ]
     },
     "execution_count": 58,
     "metadata": {},
     "output_type": "execute_result"
    },
    {
     "data": {
      "image/png": "[encoded data removed]",
      "text/plain": [
       "<Figure size 2880x288 with 1 Axes>"
      ]
     },
     "metadata": {
      "needs_background": "light"
     },
     "output_type": "display_data"
    }
   ],
   "source": [
    "# training time graph.\n",
    "f = plt.figure(figsize =(40, 4), num = 10)\n",
    "plt.subplot(131)\n",
    "plt.bar(models,training_time)"
   ]
  },
  {
   "cell_type": "code",
   "execution_count": 59,
   "id": "52a0fb3f",
   "metadata": {},
   "outputs": [
    {
     "data": {
      "text/plain": [
       "<BarContainer object of 6 artists>"
      ]
     },
     "execution_count": 59,
     "metadata": {},
     "output_type": "execute_result"
    },
    {
     "data": {
      "image/png": "[encoded data removed]",
      "text/plain": [
       "<Figure size 2880x288 with 1 Axes>"
      ]
     },
     "metadata": {
      "needs_background": "light"
     },
     "output_type": "display_data"
    }
   ],
   "source": [
    "# testing time graph.\n",
    "f = plt.figure(figsize =(40, 4), num = 10)\n",
    "plt.subplot(131)\n",
    "plt.bar(models,testing_time)"
   ]
  },
  {
   "cell_type": "code",
   "execution_count": null,
   "id": "ce77af21",
   "metadata": {},
   "outputs": [],
   "source": []
  }
 ],
 "metadata": {
  "kernelspec": {
   "display_name": "Python 3 (ipykernel)",
   "language": "python",
   "name": "python3"
  },
  "language_info": {
   "codemirror_mode": {
    "name": "ipython",
    "version": 3
   },
   "file_extension": ".py",
   "mimetype": "text/x-python",
   "name": "python",
   "nbconvert_exporter": "python",
   "pygments_lexer": "ipython3",
   "version": "3.9.7"
  }
 },
 "nbformat": 4,
 "nbformat_minor": 5
}
